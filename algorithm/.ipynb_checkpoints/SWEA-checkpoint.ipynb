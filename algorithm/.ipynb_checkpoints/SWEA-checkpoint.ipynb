{
 "cells": [
  {
   "cell_type": "markdown",
   "metadata": {},
   "source": [
    "# 4828. [파이썬 S/W 문제해결 기본] 1일차 - min max\n",
    "\n",
    "> N개의 양의 정수에서 가장 큰 수와 가장 작은 수의 차이를 출력하시오.\n",
    "\n",
    "\n",
    "- [입력]\n",
    "\n",
    "첫 줄에 테스트 케이스의 수 T가 주어진다. ( 1 ≤ T ≤ 50 )\n",
    "\n",
    "각 케이스의 첫 줄에 양수의 개수 N이 주어진다. ( 5 ≤ N ≤ 1000 )\n",
    "\n",
    "다음 줄에 N개의 양수 ai가 주어진다. ( 1 ≤ ai≤ 1000000 )\n",
    "\n",
    "- [출력]\n",
    "\n",
    "각 줄마다 \"#T\" (T는 테스트 케이스 번호)를 출력한 뒤, 답을 출력한다.\n",
    "\n",
    "**입력**\n",
    "\n",
    "3\n",
    "\n",
    "5\n",
    "\n",
    "477162 658880 751280 927930 297191\n",
    "\n",
    "5\n",
    "\n",
    "565469 851600 460874 148692 111090\n",
    "\n",
    "10\n",
    "\n",
    "784386 279993 982220 996285 614710 992232 195265 359810 919192 158175\n",
    "\n",
    "\n",
    "\n",
    "**출력**\n",
    "\n",
    "#1 630739\n",
    "#2 740510\n",
    "#3 838110"
   ]
  },
  {
   "cell_type": "code",
   "execution_count": null,
   "metadata": {},
   "outputs": [],
   "source": [
    "testcase = int(input())\n",
    "cnt = int(input())\n",
    "numbers=input().split()\n",
    "b=[]\n",
    "for i in range(len(numbers)):\n",
    "    b.append(int(a[i]))\n",
    "print(b)"
   ]
  },
  {
   "cell_type": "code",
   "execution_count": null,
   "metadata": {},
   "outputs": [],
   "source": []
  }
 ],
 "metadata": {
  "kernelspec": {
   "display_name": "Python 3",
   "language": "python",
   "name": "python3"
  },
  "language_info": {
   "codemirror_mode": {
    "name": "ipython",
    "version": 3
   },
   "file_extension": ".py",
   "mimetype": "text/x-python",
   "name": "python",
   "nbconvert_exporter": "python",
   "pygments_lexer": "ipython3",
   "version": "3.7.3"
  }
 },
 "nbformat": 4,
 "nbformat_minor": 4
}
